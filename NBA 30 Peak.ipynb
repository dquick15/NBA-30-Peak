{
 "cells": [
  {
   "cell_type": "markdown",
   "id": "af63a30f",
   "metadata": {},
   "source": [
    "# Linear Regression Analysis of Player Performances Over the Age of 30"
   ]
  },
  {
   "cell_type": "markdown",
   "id": "a800a327",
   "metadata": {},
   "source": [
    "## Step 1: Import Libraries"
   ]
  },
  {
   "cell_type": "code",
   "execution_count": 2,
   "id": "87bb7211",
   "metadata": {},
   "outputs": [],
   "source": [
    "#Import Library \n",
    "import pandas as pd\n",
    "import numpy as np\n",
    "from sklearn import linear_model\n",
    "import requests\n",
    "from nba_api.stats import endpoints\n",
    "from nba_api.stats.endpoints import playercareerstats\n",
    "from matplotlib import pyplot as plt"
   ]
  },
  {
   "cell_type": "markdown",
   "id": "d6dc2c0d",
   "metadata": {},
   "source": [
    "## Step 2: Create Variables and Dataframes from NBA API "
   ]
  },
  {
   "cell_type": "code",
   "execution_count": 31,
   "id": "98a72089",
   "metadata": {},
   "outputs": [],
   "source": [
    "# Here we access the Player Career Stats module through endpoints.\n",
    "# This module holds all statistics on former and current players based on totals and per game averages.\n",
    "# We will select 6 athletes over the age of 30 that are currently playing.\n",
    "\n",
    "demar_log = playercareerstats.PlayerCareerStats(per_mode36='PerGame', player_id = '201942') #DeMar Derozan\n",
    "\n",
    "cp3_log = playercareerstats.PlayerCareerStats(per_mode36='PerGame', player_id='101108') #Chris Paul\n",
    "\n",
    "harden_log = playercareerstats.PlayerCareerStats(player_id='201935', per_mode36='PerGame') #James Harden\n",
    "\n",
    "russ_log = playercareerstats.PlayerCareerStats(player_id='201566', per_mode36='PerGame') #Russell Westbrook\n",
    "\n",
    "dame_log = playercareerstats.PlayerCareerStats(player_id='203081', per_mode36='PerGame') #Dame Lillard\n",
    "\n",
    "bron_log = playercareerstats.PlayerCareerStats(player_id='2544', per_mode36='PerGame') #LeBron James\n",
    "\n",
    "# After creating the variables above to select our athletes, we create 6 more variables that will command Python to pull\n",
    "# information on ONLY their regular season averages for every season of each athlete with the \"get_data_frames() command\"\n",
    "\n",
    "df_demar=demar_log.get_data_frames()[0]\n",
    "\n",
    "df_cp3=cp3_log.get_data_frames()[0]\n",
    "\n",
    "df_harden=harden_log.get_data_frames()[0]\n",
    "\n",
    "df_russ=russ_log.get_data_frames()[0]\n",
    "\n",
    "df_dame=dame_log.get_data_frames()[0]\n",
    "\n",
    "df_bron=bron_log.get_data_frames()[0]\n",
    "\n",
    "#print()\n"
   ]
  },
  {
   "cell_type": "markdown",
   "id": "0478aedb",
   "metadata": {},
   "source": [
    "## Step 3: Define Variables for Linear Model"
   ]
  },
  {
   "cell_type": "code",
   "execution_count": 33,
   "id": "1fd961f2",
   "metadata": {},
   "outputs": [],
   "source": [
    "# Our linear regression will look at each athlete individually. Meaning we will be looking at each dataframe individually\n",
    "# and not a cluster of dataframes in our regression. We must make sure that the correct dataframe for the player we\n",
    "# want to observe is being used for each x and y variable within the regression.\n",
    "# We examine FTA (x) to two different y variables (ppg and fgpct) to compare the relationship our x may have with a given y.\n",
    "x, y = df_russ.FTA, df_russ.PTS\n",
    "\n",
    "x = np.array(x).reshape(-1,1)     # we reshape our array from 1d to 2d. \n",
    "y = np.array(y).reshape(-1,1)     # The proper shaped array is an input requirement for the linear model\n",
    "                                  # reshaping is usually an issue when using 1 x variable"
   ]
  },
  {
   "cell_type": "markdown",
   "id": "85fca884",
   "metadata": {},
   "source": [
    "## Step 4: Establish Model Type and Measure of Accuracy"
   ]
  },
  {
   "cell_type": "code",
   "execution_count": 34,
   "id": "77957858",
   "metadata": {},
   "outputs": [],
   "source": [
    "model = linear_model.LinearRegression()    # create an object that contains the linear model class\n",
    "model.fit(x,y)                             # Fit our modeling using FTA (x) and PPG/FGPCT(y)\n",
    "\n",
    "r2 = round(model.score(x,y), 2)            # Get our r2 value and round it to 2 decimals. \n",
    "predicted_y = model.predict(x)             # Get our predicted y values for x"
   ]
  },
  {
   "cell_type": "markdown",
   "id": "3e06eafd",
   "metadata": {},
   "source": [
    "## Step 5: Visualize our Results"
   ]
  },
  {
   "cell_type": "code",
   "execution_count": 36,
   "id": "a44dc9d4",
   "metadata": {},
   "outputs": [
    {
     "data": {
      "image/png": "[encoded data removed]",
      "text/plain": [
       "<Figure size 432x288 with 1 Axes>"
      ]
     },
     "metadata": {
      "needs_background": "light"
     },
     "output_type": "display_data"
    }
   ],
   "source": [
    "# Finally we use matplotlib to visualize our data model.The visual should include a scatter plot with a line \n",
    "# of best fit that helps to explain the relationship between our x and y variable.\n",
    "# Positive relationship will see the line trend upward.\n",
    "# Negative relationship will see the line trend downward.\n",
    "# Our visualization of this model should give us valuable information on performance of each player over the course of their\n",
    "# carreer in relation to the chosen x and y variables.\n",
    "\n",
    "annotations=df_russ.SEASON_ID                            #define a variable to help us label the dots by yearly season \n",
    "                                                         #be sure to change to dataframe for the right player.\n",
    "    \n",
    "plt.scatter(x, y, s=10, alpha=.5)                            # Scatterplot:  Specfiy size(s) and transparency(alpha) of dots\n",
    "plt.plot(x, predicted_y, color = 'black')                    # line: Add line for regression line w/ predicted values\n",
    "plt.title('NBA - Relationship Between FTA and PTS')          # Give it a title\n",
    "plt.xlabel('FTA per Season')                                   # Label x-axis\n",
    "plt.ylabel('PTS Per Season')                                # Label y-axis\n",
    "plt.text(10,25, f'R2={r2}')                                  # 10, 25 are the coordinates for our text. Adjust accordingly\n",
    "for i, label in enumerate(annotations):                 #for label produces the season to the correspong plot point\n",
    "    plt.annotate(label, (x[i], y[i]))\n",
    "\n",
    "# We save the image as 'player_name graph.png'. Each Player will have two graphs. The second graph will end in 'graph2.png'\n",
    "# for the fgpct.\n",
    "# We'll set the dpi (dots per inch) to 300, so we have a nice looking picture.\n",
    "plt.savefig('Russ graph.png', dpi=300) "
   ]
  }
 ],
 "metadata": {
  "kernelspec": {
   "display_name": "Python 3 (ipykernel)",
   "language": "python",
   "name": "python3"
  },
  "language_info": {
   "codemirror_mode": {
    "name": "ipython",
    "version": 3
   },
   "file_extension": ".py",
   "mimetype": "text/x-python",
   "name": "python",
   "nbconvert_exporter": "python",
   "pygments_lexer": "ipython3",
   "version": "3.9.7"
  }
 },
 "nbformat": 4,
 "nbformat_minor": 5
}
